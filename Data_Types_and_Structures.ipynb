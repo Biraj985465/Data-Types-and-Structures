{
  "nbformat": 4,
  "nbformat_minor": 0,
  "metadata": {
    "colab": {
      "provenance": []
    },
    "kernelspec": {
      "name": "python3",
      "display_name": "Python 3"
    },
    "language_info": {
      "name": "python"
    }
  },
  "cells": [
    {
      "cell_type": "markdown",
      "source": [
        "#Data Types and Structures Questions"
      ],
      "metadata": {
        "id": "loZbfoqQhZQl"
      }
    },
    {
      "cell_type": "markdown",
      "source": [
        "1.What are data structures, and why are they important ?"
      ],
      "metadata": {
        "id": "bLXgwxHZhhFr"
      }
    },
    {
      "cell_type": "markdown",
      "source": [
        "  - Data structures are specialized formats for organizing, storing, and accessing data in a computer, enabling efficient data management."
      ],
      "metadata": {
        "id": "sqA4_msVhs5b"
      }
    },
    {
      "cell_type": "markdown",
      "source": [
        "2. Explain the difference between mutable and immutable data types with examples ?"
      ],
      "metadata": {
        "id": "UHdSM31IhsIL"
      }
    },
    {
      "cell_type": "markdown",
      "source": [
        "  - mutable data types allow their values to be modified after creation, while immutable data types cannot be changed once created."
      ],
      "metadata": {
        "id": "Dw54sgLXh2ui"
      }
    },
    {
      "cell_type": "markdown",
      "source": [
        "3. What are the main differences between lists and tuples in Python ?"
      ],
      "metadata": {
        "id": "5HAWBOq1h4fT"
      }
    },
    {
      "cell_type": "markdown",
      "source": [
        "  - The main differences between lists and tuples in Python lie in their mutability, syntax, and use cases ."
      ],
      "metadata": {
        "id": "8_81KrUJh7o7"
      }
    },
    {
      "cell_type": "markdown",
      "source": [
        "4. Describe how dictionaries store data ?"
      ],
      "metadata": {
        "id": "T0nrSyz3h89C"
      }
    },
    {
      "cell_type": "markdown",
      "source": [
        " - data is stored in a key:value format."
      ],
      "metadata": {
        "id": "xnTEzvc-iBQD"
      }
    },
    {
      "cell_type": "markdown",
      "source": [
        "5. Why might you use a set instead of a list in Python ?"
      ],
      "metadata": {
        "id": "8GbaeSyLiDWa"
      }
    },
    {
      "cell_type": "markdown",
      "source": [
        "  - A key difference is that sets do not allow duplicate elements, while lists do. This uniqueness property of sets makes them ideal for scenarios like removing duplicates from a collection or checking for membership."
      ],
      "metadata": {
        "id": "o8Jqyk_iiG5y"
      }
    },
    {
      "cell_type": "markdown",
      "source": [
        "6. What is a string in Python, and how is it different from a list ?"
      ],
      "metadata": {
        "id": "KDTNTIHGiIKa"
      }
    },
    {
      "cell_type": "markdown",
      "source": [
        "  - A string is a sequence of characters between single or double quotes. A list is a sequence of items, where each item could be anything (an integer, a float, a string, etc)."
      ],
      "metadata": {
        "id": "t--_FmhviLiS"
      }
    },
    {
      "cell_type": "markdown",
      "source": [
        "7. How do tuples ensure data integrity in Python ?"
      ],
      "metadata": {
        "id": "vTFke3bNiMjh"
      }
    },
    {
      "cell_type": "markdown",
      "source": [
        "  - Tuples in Python ensure data integrity through their immutability."
      ],
      "metadata": {
        "id": "mk0bGWjGiPki"
      }
    },
    {
      "cell_type": "markdown",
      "source": [
        "8. What is a hash table, and how does it relate to dictionaries in Python ?"
      ],
      "metadata": {
        "id": "dgda-8dsiQkC"
      }
    },
    {
      "cell_type": "markdown",
      "source": [
        "  - A hash table is a data structure that stores key-value pairs, where each key is unique and the values can be of any data type. It uses a hash function to compute the index for each key, determining its position within an array (the \"hash table\" itself). This allows for efficient data retrieval, insertion, and deletion, typically with an average time complexity of O(1)."
      ],
      "metadata": {
        "id": "pB-DHHt1iTpp"
      }
    },
    {
      "cell_type": "markdown",
      "source": [
        "9. Can lists contain different data types in Python ?"
      ],
      "metadata": {
        "id": "fr4fI6L0iUxZ"
      }
    },
    {
      "cell_type": "markdown",
      "source": [
        "  - Yes, lists in Python can contain elements of different data types. A single list can hold a combination of integers, floats, strings, booleans, and even other data structures like lists, tuples, or dictionaries. This flexibility is a key feature of Python lists."
      ],
      "metadata": {
        "id": "0WUKrfeOsa5g"
      }
    },
    {
      "cell_type": "markdown",
      "source": [
        "10. Explain why strings are immutable in Python ?"
      ],
      "metadata": {
        "id": "8cMMR_ZZiYcB"
      }
    },
    {
      "cell_type": "markdown",
      "source": [
        "  - Strings are immutable in Python for reasons related to efficiency, safety, and design principles."
      ],
      "metadata": {
        "id": "gffZQ6Hsic1p"
      }
    },
    {
      "cell_type": "markdown",
      "source": [
        "11. What advantages do dictionaries offer over lists for certain tasks ?"
      ],
      "metadata": {
        "id": "bgtw5iJ0id9p"
      }
    },
    {
      "cell_type": "markdown",
      "source": [
        "  - it is more efficient"
      ],
      "metadata": {
        "id": "ShyV5Q97ig6K"
      }
    },
    {
      "cell_type": "markdown",
      "source": [
        "12. Describe a scenario where using a tuple would be preferable over a list ?"
      ],
      "metadata": {
        "id": "PE7RcYnjijDg"
      }
    },
    {
      "cell_type": "markdown",
      "source": [
        "  - Use a tuple if you need an immutable collection where the elements won't change after creation."
      ],
      "metadata": {
        "id": "hNkJ7X6BimAg"
      }
    },
    {
      "cell_type": "markdown",
      "source": [
        "13. How do sets handle duplicate values in Python ?"
      ],
      "metadata": {
        "id": "XMnfRXQUinwQ"
      }
    },
    {
      "cell_type": "markdown",
      "source": [
        "  - Sets in Python are designed to store only unique elements. When a duplicate value is added to a set, it is automatically discarded, and only one instance of the value is retained. This behavior is a fundamental characteristic of sets, ensuring that they maintain a collection of distinct items."
      ],
      "metadata": {
        "id": "LxnTiBFAirwI"
      }
    },
    {
      "cell_type": "markdown",
      "source": [
        "14. How does the “in” keyword work differently for lists and dictionaries ?"
      ],
      "metadata": {
        "id": "kL72w1jRiszo"
      }
    },
    {
      "cell_type": "markdown",
      "source": [
        "  - dictionary values can be duplicated like a list"
      ],
      "metadata": {
        "id": "sAess6cLiwYB"
      }
    },
    {
      "cell_type": "markdown",
      "source": [
        "15.  Can you modify the elements of a tuple? Explain why or why not ?"
      ],
      "metadata": {
        "id": "tsC2zIxIixmp"
      }
    },
    {
      "cell_type": "markdown",
      "source": [
        "  - No, you cannot directly modify the elements of a tuple in Python after it's been created"
      ],
      "metadata": {
        "id": "Aqp811iLi1VI"
      }
    },
    {
      "cell_type": "markdown",
      "source": [
        "16. What is a nested dictionary, and give an example of its use case ?"
      ],
      "metadata": {
        "id": "Qcabzk-Ai2mg"
      }
    },
    {
      "cell_type": "markdown",
      "source": [
        "  - A nested dictionary in Python is a dictionary where the values are themselves dictionaries.\n",
        "  "
      ],
      "metadata": {
        "id": "HKI9AWkwi59o"
      }
    },
    {
      "cell_type": "markdown",
      "source": [
        "17.  Describe the time complexity of accessing elements in a dictionary"
      ],
      "metadata": {
        "id": "p0RoUw_9i605"
      }
    },
    {
      "cell_type": "markdown",
      "source": [
        "  - O(1) on average."
      ],
      "metadata": {
        "id": "f8DtnO_ei_NH"
      }
    },
    {
      "cell_type": "markdown",
      "source": [
        "18. In what situations are lists preferred over dictionaries ?"
      ],
      "metadata": {
        "id": "11eZlMSei_73"
      }
    },
    {
      "cell_type": "markdown",
      "source": [
        "  - For quick data look-ups, configurations, or caches, favor dictionaries. For ordered collections and sequence operations, such as maintaining a stack or queue, lists are more suitable."
      ],
      "metadata": {
        "id": "obMgXtoRjDAw"
      }
    },
    {
      "cell_type": "markdown",
      "source": [
        "19. Why are dictionaries considered unordered, and how does that affect data retrieval ?"
      ],
      "metadata": {
        "id": "WH0sy2UmjDyg"
      }
    },
    {
      "cell_type": "markdown",
      "source": [
        "  - dictionaries do not maintain any inherent order of the items based on when they were added."
      ],
      "metadata": {
        "id": "aNQ_o9kJjHH3"
      }
    },
    {
      "cell_type": "markdown",
      "source": [
        "20. Explain the difference between a list and a dictionary in terms of data retrieval."
      ],
      "metadata": {
        "id": "Boe6Js7qjH_Y"
      }
    },
    {
      "cell_type": "markdown",
      "source": [
        "  - a dictionary offers significantly faster lookup of values based on unique keys compared to a list, which relies on numerical indices."
      ],
      "metadata": {
        "id": "2WKWi1q8jKMP"
      }
    },
    {
      "cell_type": "markdown",
      "source": [
        "#Practical Questions"
      ],
      "metadata": {
        "id": "_6XW1K0ZjMv3"
      }
    },
    {
      "cell_type": "markdown",
      "source": [
        "1. Write a code to create a string with your name and print it."
      ],
      "metadata": {
        "id": "HQvCI5CJjO83"
      }
    },
    {
      "cell_type": "code",
      "source": [
        "name = \"Biraj\"\n",
        "print(name)"
      ],
      "metadata": {
        "colab": {
          "base_uri": "https://localhost:8080/"
        },
        "id": "93KmO50hv_A7",
        "outputId": "e5980595-fd53-47e8-f717-69e856b8fc32"
      },
      "execution_count": 7,
      "outputs": [
        {
          "output_type": "stream",
          "name": "stdout",
          "text": [
            "Biraj\n"
          ]
        }
      ]
    },
    {
      "cell_type": "markdown",
      "source": [
        "2. Write a code to find the length of the string \"Hello World\" ?"
      ],
      "metadata": {
        "id": "5Cvo76_8jfam"
      }
    },
    {
      "cell_type": "code",
      "source": [
        "s =(\"hello world\")\n",
        "len(s)"
      ],
      "metadata": {
        "colab": {
          "base_uri": "https://localhost:8080/"
        },
        "id": "bUlAck5qnYBD",
        "outputId": "f40bf6b8-673c-45f7-ba42-a91d18dad048"
      },
      "execution_count": null,
      "outputs": [
        {
          "output_type": "execute_result",
          "data": {
            "text/plain": [
              "11"
            ]
          },
          "metadata": {},
          "execution_count": 4
        }
      ]
    },
    {
      "cell_type": "markdown",
      "source": [
        "3. Write a code to slice the first 3 characters from the string \"Python Programming\" ?"
      ],
      "metadata": {
        "id": "ZCS31R8AjiXG"
      }
    },
    {
      "cell_type": "code",
      "source": [
        "string = \"Python Programming\"\n",
        "sliced_string = string[0:3]\n",
        "print(sliced_string)"
      ],
      "metadata": {
        "colab": {
          "base_uri": "https://localhost:8080/"
        },
        "id": "gjovfpCMupPY",
        "outputId": "6f83c235-ad93-4c10-a075-4c036aaf76a5"
      },
      "execution_count": 1,
      "outputs": [
        {
          "output_type": "stream",
          "name": "stdout",
          "text": [
            "Pyt\n"
          ]
        }
      ]
    },
    {
      "cell_type": "markdown",
      "source": [
        "4. Write a code to convert the string \"hello\" to uppercase."
      ],
      "metadata": {
        "id": "fTI6ABZkjk5X"
      }
    },
    {
      "cell_type": "code",
      "source": [
        "string = \"hello\"\n",
        "uppercase_string = string.upper()\n",
        "print(uppercase_string)"
      ],
      "metadata": {
        "colab": {
          "base_uri": "https://localhost:8080/"
        },
        "id": "BeGQ2KnSu1U3",
        "outputId": "d800dd34-64a0-4a3d-f0d9-df7493ac74f8"
      },
      "execution_count": 2,
      "outputs": [
        {
          "output_type": "stream",
          "name": "stdout",
          "text": [
            "HELLO\n"
          ]
        }
      ]
    },
    {
      "cell_type": "markdown",
      "source": [
        "5. Write a code to replace the word \"apple\" with \"orange\" in the string \"I like apple\"."
      ],
      "metadata": {
        "id": "U0I-E1YJjobe"
      }
    },
    {
      "cell_type": "code",
      "source": [
        "text = \"I like apple\"\n",
        "new_text = text.replace(\"apple\", \"orange\")\n",
        "print(new_text)"
      ],
      "metadata": {
        "colab": {
          "base_uri": "https://localhost:8080/"
        },
        "id": "q-zLu_bxvuQ8",
        "outputId": "1d1a40b9-d91b-46cb-969b-ddf23aae56b9"
      },
      "execution_count": 6,
      "outputs": [
        {
          "output_type": "stream",
          "name": "stdout",
          "text": [
            "I like orange\n"
          ]
        }
      ]
    },
    {
      "cell_type": "markdown",
      "source": [
        "6. Write a code to create a list with numbers 1 to 5 and print it."
      ],
      "metadata": {
        "id": "H2lmS8PVjq51"
      }
    },
    {
      "cell_type": "code",
      "source": [
        "# Create a list with numbers from 1 to 5\n",
        "numbers = [1, 2, 3, 4, 5]\n",
        "\n",
        "# Print the list\n",
        "print(numbers)"
      ],
      "metadata": {
        "colab": {
          "base_uri": "https://localhost:8080/"
        },
        "id": "q8fJaJcQvnFV",
        "outputId": "7130ca05-05b7-49a8-ee7a-0ab9cf62eed1"
      },
      "execution_count": 3,
      "outputs": [
        {
          "output_type": "stream",
          "name": "stdout",
          "text": [
            "[1, 2, 3, 4, 5]\n"
          ]
        }
      ]
    },
    {
      "cell_type": "markdown",
      "source": [
        "7. Write a code to append the number 10 to the list [1, 2, 3, 4]."
      ],
      "metadata": {
        "id": "UQT0PE1VjuPu"
      }
    },
    {
      "cell_type": "code",
      "source": [
        "numbers = [1, 2, 3, 4]\n",
        "\n",
        "numbers.append(10)\n",
        "\n",
        "print(numbers)"
      ],
      "metadata": {
        "colab": {
          "base_uri": "https://localhost:8080/"
        },
        "id": "nxZ7QK-1wOer",
        "outputId": "f7b1203c-9b40-4fdb-b368-5889d9782495"
      },
      "execution_count": 8,
      "outputs": [
        {
          "output_type": "stream",
          "name": "stdout",
          "text": [
            "[1, 2, 3, 4, 10]\n"
          ]
        }
      ]
    },
    {
      "cell_type": "markdown",
      "source": [
        "8. Write a code to remove the number 3 from the list [1, 2, 3, 4, 5]."
      ],
      "metadata": {
        "id": "-khn5M1yjw7t"
      }
    },
    {
      "cell_type": "code",
      "source": [
        "numbers = [1, 2, 3, 4, 5]\n",
        "\n",
        "numbers.remove(3)\n",
        "\n",
        "print(numbers)"
      ],
      "metadata": {
        "colab": {
          "base_uri": "https://localhost:8080/"
        },
        "id": "jtSmKuh9wZoq",
        "outputId": "b7ea002b-3db2-42e9-b838-a33235c3f1fa"
      },
      "execution_count": 9,
      "outputs": [
        {
          "output_type": "stream",
          "name": "stdout",
          "text": [
            "[1, 2, 4, 5]\n"
          ]
        }
      ]
    },
    {
      "cell_type": "markdown",
      "source": [
        "9. Write a code to access the second element in the list ['a', 'b', 'c', 'd']."
      ],
      "metadata": {
        "id": "P6KfY7AJjzPV"
      }
    },
    {
      "cell_type": "code",
      "source": [
        "letters = ['a', 'b', 'c', 'd']\n",
        "\n",
        "second_element = letters[1]\n",
        "\n",
        "print(second_element)"
      ],
      "metadata": {
        "colab": {
          "base_uri": "https://localhost:8080/"
        },
        "id": "N0Gc9oR_wh27",
        "outputId": "27b7b5b9-99ac-4268-bc54-c577cfd19abb"
      },
      "execution_count": 10,
      "outputs": [
        {
          "output_type": "stream",
          "name": "stdout",
          "text": [
            "b\n"
          ]
        }
      ]
    },
    {
      "cell_type": "markdown",
      "source": [
        "10. Write a code to reverse the list [10, 20, 30, 40, 50]."
      ],
      "metadata": {
        "id": "2ksiHyKkj1pW"
      }
    },
    {
      "cell_type": "code",
      "source": [
        "numbers = [10, 20, 30, 40, 50]\n",
        "\n",
        "numbers.reverse()\n",
        "\n",
        "print(numbers)"
      ],
      "metadata": {
        "colab": {
          "base_uri": "https://localhost:8080/"
        },
        "id": "Ugvd17Jwwqd5",
        "outputId": "837ebd7c-eeb7-472e-8af2-1ecff2ac041b"
      },
      "execution_count": 11,
      "outputs": [
        {
          "output_type": "stream",
          "name": "stdout",
          "text": [
            "[50, 40, 30, 20, 10]\n"
          ]
        }
      ]
    },
    {
      "cell_type": "markdown",
      "source": [
        "11. Write a code to create a tuple with the elements 100, 200, 300 and print it."
      ],
      "metadata": {
        "id": "kdLbVGbfj3_t"
      }
    },
    {
      "cell_type": "code",
      "source": [
        "my_tuple = (100, 200, 300)\n",
        "\n",
        "print(my_tuple)"
      ],
      "metadata": {
        "colab": {
          "base_uri": "https://localhost:8080/"
        },
        "id": "8lNIrtJhw1MI",
        "outputId": "9a7d6fb7-90dd-435a-d605-a060f215341a"
      },
      "execution_count": 12,
      "outputs": [
        {
          "output_type": "stream",
          "name": "stdout",
          "text": [
            "(100, 200, 300)\n"
          ]
        }
      ]
    },
    {
      "cell_type": "markdown",
      "source": [
        "12. Write a code to access the second-to-last element of the tuple ('red', 'green', 'blue', 'yellow')."
      ],
      "metadata": {
        "id": "0JntJRA7j6aV"
      }
    },
    {
      "cell_type": "code",
      "source": [
        "colors = ('red', 'green', 'blue', 'yellow')\n",
        "\n",
        "second_to_last = colors[-2]\n",
        "\n",
        "print(second_to_last)"
      ],
      "metadata": {
        "colab": {
          "base_uri": "https://localhost:8080/"
        },
        "id": "YcK6P9iww9u4",
        "outputId": "a39e96ac-6799-40f1-aeee-2ec5771617ee"
      },
      "execution_count": 13,
      "outputs": [
        {
          "output_type": "stream",
          "name": "stdout",
          "text": [
            "blue\n"
          ]
        }
      ]
    },
    {
      "cell_type": "markdown",
      "source": [
        "13. Write a code to find the minimum number in the tuple (10, 20, 5, 15)."
      ],
      "metadata": {
        "id": "3f41KnSTj81t"
      }
    },
    {
      "cell_type": "code",
      "source": [
        "numbers = (10, 20, 5, 15)\n",
        "\n",
        "min_number = min(numbers)\n",
        "\n",
        "print(min_number)"
      ],
      "metadata": {
        "colab": {
          "base_uri": "https://localhost:8080/"
        },
        "id": "iSqYZFhfxIqP",
        "outputId": "fbe3caba-200d-415e-f97c-6aabc4c55944"
      },
      "execution_count": 14,
      "outputs": [
        {
          "output_type": "stream",
          "name": "stdout",
          "text": [
            "5\n"
          ]
        }
      ]
    },
    {
      "cell_type": "markdown",
      "source": [
        "14. Write a code to find the index of the element \"cat\" in the tuple ('dog', 'cat', 'rabbit').\n",
        "\n"
      ],
      "metadata": {
        "id": "l7y2ilmsj_Wk"
      }
    },
    {
      "cell_type": "code",
      "source": [
        "animals = ('dog', 'cat', 'rabbit')\n",
        "\n",
        "index_of_cat = animals.index('cat')\n",
        "\n",
        "print(index_of_cat)"
      ],
      "metadata": {
        "colab": {
          "base_uri": "https://localhost:8080/"
        },
        "id": "ckxns0dwxP1o",
        "outputId": "d37c068e-2a5c-4d56-cc55-5128aebd7168"
      },
      "execution_count": 15,
      "outputs": [
        {
          "output_type": "stream",
          "name": "stdout",
          "text": [
            "1\n"
          ]
        }
      ]
    },
    {
      "cell_type": "markdown",
      "source": [
        "15.  Write a code to create a tuple containing three different fruits and check if \"kiwi\" is in it."
      ],
      "metadata": {
        "id": "qgFG6y76kByE"
      }
    },
    {
      "cell_type": "code",
      "source": [
        "fruits = ('apple', 'banana', 'cherry')\n",
        "\n",
        "is_kiwi_in_tuple = 'kiwi' in fruits\n",
        "\n",
        "print(is_kiwi_in_tuple)"
      ],
      "metadata": {
        "colab": {
          "base_uri": "https://localhost:8080/"
        },
        "id": "8ubtJ4Luxitu",
        "outputId": "f26f201f-dc5e-40f8-8096-a6a578183abc"
      },
      "execution_count": 16,
      "outputs": [
        {
          "output_type": "stream",
          "name": "stdout",
          "text": [
            "False\n"
          ]
        }
      ]
    },
    {
      "cell_type": "markdown",
      "source": [
        "16.  Write a code to create a set with the elements 'a', 'b', 'c' and print it."
      ],
      "metadata": {
        "id": "02BubxZwkELs"
      }
    },
    {
      "cell_type": "code",
      "source": [
        "my_set = ('a', 'b', 'c')\n",
        "\n",
        "print(my_set)"
      ],
      "metadata": {
        "colab": {
          "base_uri": "https://localhost:8080/"
        },
        "id": "jmHy3S4DxutF",
        "outputId": "9290343b-70df-47a9-ba1d-8ecb83988523"
      },
      "execution_count": 19,
      "outputs": [
        {
          "output_type": "stream",
          "name": "stdout",
          "text": [
            "('a', 'b', 'c')\n"
          ]
        }
      ]
    },
    {
      "cell_type": "markdown",
      "source": [
        "17. Write a code to clear all elements from the set {1, 2, 3, 4, 5}."
      ],
      "metadata": {
        "id": "Ct8Lr2HkkGHV"
      }
    },
    {
      "cell_type": "code",
      "source": [
        "my_set = {1, 2, 3, 4, 5}\n",
        "\n",
        "my_set.clear()\n",
        "\n",
        "print(my_set)"
      ],
      "metadata": {
        "colab": {
          "base_uri": "https://localhost:8080/"
        },
        "id": "YbJhlN18yK8L",
        "outputId": "25d35f0a-2538-481f-982b-79722d782930"
      },
      "execution_count": 20,
      "outputs": [
        {
          "output_type": "stream",
          "name": "stdout",
          "text": [
            "set()\n"
          ]
        }
      ]
    },
    {
      "cell_type": "markdown",
      "source": [
        "18. Write a code to remove the element 4 from the set {1, 2, 3, 4}."
      ],
      "metadata": {
        "id": "gSzWvcBmkIjt"
      }
    },
    {
      "cell_type": "code",
      "source": [
        "my_set = {1, 2, 3, 4}\n",
        "\n",
        "my_set.remove(4)\n",
        "\n",
        "print(my_set)"
      ],
      "metadata": {
        "colab": {
          "base_uri": "https://localhost:8080/"
        },
        "id": "EZRtm9AcyTkb",
        "outputId": "2e258a5b-a0f1-4526-d660-644179f83f81"
      },
      "execution_count": 21,
      "outputs": [
        {
          "output_type": "stream",
          "name": "stdout",
          "text": [
            "{1, 2, 3}\n"
          ]
        }
      ]
    },
    {
      "cell_type": "markdown",
      "source": [
        "19. Write a code to find the union of two sets {1, 2, 3} and {3, 4, 5}."
      ],
      "metadata": {
        "id": "zulTQYIFkLY8"
      }
    },
    {
      "cell_type": "code",
      "source": [
        "set1 = {1, 2, 3}\n",
        "set2 = {3, 4, 5}\n",
        "\n",
        "union_set = set1 | set2\n",
        "\n",
        "print(union_set)"
      ],
      "metadata": {
        "colab": {
          "base_uri": "https://localhost:8080/"
        },
        "id": "YP65E7er2Sec",
        "outputId": "6b2a7b1f-fc2a-4954-9822-00cd06edc101"
      },
      "execution_count": 22,
      "outputs": [
        {
          "output_type": "stream",
          "name": "stdout",
          "text": [
            "{1, 2, 3, 4, 5}\n"
          ]
        }
      ]
    },
    {
      "cell_type": "markdown",
      "source": [
        "20. Write a code to find the intersection of two sets {1, 2, 3} and {2, 3, 4}."
      ],
      "metadata": {
        "id": "oVwnT_nHkNuM"
      }
    },
    {
      "cell_type": "code",
      "source": [
        "set1 = {1, 2, 3}\n",
        "set2 = {2, 3, 4}\n",
        "\n",
        "intersection_set = set1 & set2\n",
        "\n",
        "print(intersection_set)"
      ],
      "metadata": {
        "colab": {
          "base_uri": "https://localhost:8080/"
        },
        "id": "ucGNFSGv2Zrs",
        "outputId": "d178eb2d-1a94-447d-f6fd-f1fa90acedc1"
      },
      "execution_count": 23,
      "outputs": [
        {
          "output_type": "stream",
          "name": "stdout",
          "text": [
            "{2, 3}\n"
          ]
        }
      ]
    },
    {
      "cell_type": "markdown",
      "source": [
        "21. Write a code to create a dictionary with the keys \"name\", \"age\", and \"city\", and print it."
      ],
      "metadata": {
        "id": "3GF4LUUEkQCM"
      }
    },
    {
      "cell_type": "code",
      "source": [
        "person = {\"name\": \"Biraj Kalita\",\n",
        "    \"age\": 29,\n",
        "    \"city\": \"Guwahati, Assam\"}\n",
        "\n",
        "print(person)"
      ],
      "metadata": {
        "colab": {
          "base_uri": "https://localhost:8080/"
        },
        "id": "-ikPVZh93hig",
        "outputId": "44d78392-c46a-4e36-b4b2-ca7b7f133100"
      },
      "execution_count": 26,
      "outputs": [
        {
          "output_type": "stream",
          "name": "stdout",
          "text": [
            "{'name': 'Biraj Kalita', 'age': 29, 'city': 'Guwahati, Assam'}\n"
          ]
        }
      ]
    },
    {
      "cell_type": "markdown",
      "source": [
        "22. Write a code to add a new key-value pair \"country\": \"USA\" to the dictionary {'name': 'John', 'age': 25}."
      ],
      "metadata": {
        "id": "V79kHPAwkScs"
      }
    },
    {
      "cell_type": "code",
      "source": [
        "person = {'name': 'John', 'age': 25}\n",
        "\n",
        "person['country'] = 'USA'\n",
        "\n",
        "print(person)"
      ],
      "metadata": {
        "colab": {
          "base_uri": "https://localhost:8080/"
        },
        "id": "rXh4RIne4eK-",
        "outputId": "8cb3473b-1c2c-49ea-86c1-f458885395fe"
      },
      "execution_count": 27,
      "outputs": [
        {
          "output_type": "stream",
          "name": "stdout",
          "text": [
            "{'name': 'John', 'age': 25, 'country': 'USA'}\n"
          ]
        }
      ]
    },
    {
      "cell_type": "markdown",
      "source": [
        "23. Write a code to access the value associated with the key \"name\" in the dictionary {'name': 'Alice', 'age': 30}."
      ],
      "metadata": {
        "id": "ieeIom1EkUnj"
      }
    },
    {
      "cell_type": "code",
      "source": [
        "person = {'name': 'Alice', 'age': 30}\n",
        "\n",
        "name_value = person['name']\n",
        "\n",
        "print(name_value)"
      ],
      "metadata": {
        "colab": {
          "base_uri": "https://localhost:8080/"
        },
        "id": "U9rPGxBj4ps8",
        "outputId": "6b62c629-4630-4328-ec6e-45820f289a07"
      },
      "execution_count": 28,
      "outputs": [
        {
          "output_type": "stream",
          "name": "stdout",
          "text": [
            "Alice\n"
          ]
        }
      ]
    },
    {
      "cell_type": "markdown",
      "source": [
        "24. Write a code to remove the key \"age\" from the dictionary {'name': 'Bob', 'age': 22, 'city': 'New York'}."
      ],
      "metadata": {
        "id": "PMA5DTOEkW8T"
      }
    },
    {
      "cell_type": "code",
      "source": [
        "person = {'name': 'Bob', 'age': 22, 'city': 'New York'}\n",
        "\n",
        "del person['age']\n",
        "\n",
        "print(person)"
      ],
      "metadata": {
        "colab": {
          "base_uri": "https://localhost:8080/"
        },
        "id": "6qHxm18E41Kc",
        "outputId": "e6a3316f-f03b-4a8f-abb2-5bb94746ed2f"
      },
      "execution_count": 29,
      "outputs": [
        {
          "output_type": "stream",
          "name": "stdout",
          "text": [
            "{'name': 'Bob', 'city': 'New York'}\n"
          ]
        }
      ]
    },
    {
      "cell_type": "markdown",
      "source": [
        "25. Write a code to check if the key \"city\" exists in the dictionary {'name': 'Alice', 'city': 'Paris'}."
      ],
      "metadata": {
        "id": "F6R4qPzckaFL"
      }
    },
    {
      "cell_type": "code",
      "source": [
        "person = {'name': 'Alice', 'city': 'Paris'}\n",
        "\n",
        "if 'city' in person:\n",
        "    print(\"The key 'city' exists.\")\n",
        "else:\n",
        "    print(\"The key 'city' does not exist.\")"
      ],
      "metadata": {
        "colab": {
          "base_uri": "https://localhost:8080/"
        },
        "id": "n0SjLDhq48_U",
        "outputId": "991d1347-9d39-4fa2-dbb0-442f99596f76"
      },
      "execution_count": 30,
      "outputs": [
        {
          "output_type": "stream",
          "name": "stdout",
          "text": [
            "The key 'city' exists.\n"
          ]
        }
      ]
    },
    {
      "cell_type": "markdown",
      "source": [
        "26. Write a code to create a list, a tuple, and a dictionary, and print them all."
      ],
      "metadata": {
        "id": "4-xQTgg9kcbD"
      }
    },
    {
      "cell_type": "code",
      "source": [
        "my_list = [1, 2, 3, 4]\n",
        "\n",
        "my_tuple = ('apple', 'banana', 'Tomato')\n",
        "\n",
        "my_dict = {'name': 'Virat Kohli', 'age': 35, 'city': 'Delhi'}\n",
        "\n",
        "print(\"List:\", my_list)\n",
        "\n",
        "print(\"Tuple:\", my_tuple)\n",
        "\n",
        "print(\"Dictionary:\", my_dict)"
      ],
      "metadata": {
        "colab": {
          "base_uri": "https://localhost:8080/"
        },
        "id": "-9E6b54i5GRk",
        "outputId": "f0ccafe3-bf19-4bac-9ffa-4680236a8522"
      },
      "execution_count": 32,
      "outputs": [
        {
          "output_type": "stream",
          "name": "stdout",
          "text": [
            "List: [1, 2, 3, 4]\n",
            "Tuple: ('apple', 'banana', 'Tomato')\n",
            "Dictionary: {'name': 'Virat Kohli', 'age': 35, 'city': 'Delhi'}\n"
          ]
        }
      ]
    },
    {
      "cell_type": "markdown",
      "source": [
        "27. Write a code to create a list of 5 random numbers between 1 and 100, sort it in ascending order, and print the\n",
        "result.(replaced)"
      ],
      "metadata": {
        "id": "_oUoPQ-Bket7"
      }
    },
    {
      "cell_type": "code",
      "source": [
        "import random\n",
        "random_numbers = [random.randint(1, 100) for _ in range(5)]\n",
        "\n",
        "random_numbers.sort()\n",
        "\n",
        "print(random_numbers)"
      ],
      "metadata": {
        "colab": {
          "base_uri": "https://localhost:8080/"
        },
        "id": "sIjguvZ16Bq4",
        "outputId": "64aeabac-6ef4-4417-cdde-ce1b6c887f0b"
      },
      "execution_count": 33,
      "outputs": [
        {
          "output_type": "stream",
          "name": "stdout",
          "text": [
            "[16, 25, 46, 68, 77]\n"
          ]
        }
      ]
    },
    {
      "cell_type": "markdown",
      "source": [
        "28.  Write a code to create a list with strings and print the element at the third index."
      ],
      "metadata": {
        "id": "KLVOv4a7khdt"
      }
    },
    {
      "cell_type": "code",
      "source": [
        "my_list = ['apple', 'banana', 'Orrange', 'Tomato', 'berry']\n",
        "\n",
        "print(my_list[3])"
      ],
      "metadata": {
        "colab": {
          "base_uri": "https://localhost:8080/"
        },
        "id": "fS5Q7UsQ6L7I",
        "outputId": "5705cc7f-ca09-43aa-db19-88a20222df04"
      },
      "execution_count": 35,
      "outputs": [
        {
          "output_type": "stream",
          "name": "stdout",
          "text": [
            "Tomato\n"
          ]
        }
      ]
    },
    {
      "cell_type": "markdown",
      "source": [
        "29.  Write a code to combine two dictionaries into one and print the result."
      ],
      "metadata": {
        "id": "DKcalZd2kkKj"
      }
    },
    {
      "cell_type": "code",
      "source": [
        "dict1 = {'name': 'Biraj', 'age': 29}\n",
        "dict2 = {'city': 'Guwahati', 'country': 'India', 'state': 'Assam'}\n",
        "\n",
        "combined_dict = {**dict1, **dict2}\n",
        "\n",
        "print(combined_dict)"
      ],
      "metadata": {
        "colab": {
          "base_uri": "https://localhost:8080/"
        },
        "id": "c-HVnFvq6e5G",
        "outputId": "d62a7435-70e7-42d5-e4e9-926db9dcb905"
      },
      "execution_count": 36,
      "outputs": [
        {
          "output_type": "stream",
          "name": "stdout",
          "text": [
            "{'name': 'Biraj', 'age': 29, 'city': 'Guwahati', 'country': 'India', 'state': 'Assam'}\n"
          ]
        }
      ]
    },
    {
      "cell_type": "markdown",
      "source": [
        "30. Write a code to convert a list of strings into a set."
      ],
      "metadata": {
        "id": "AM0mBTWXknCL"
      }
    },
    {
      "cell_type": "code",
      "source": [
        "my_list = ['tomatto', 'banana', 'cherry', 'tomatto']\n",
        "\n",
        "my_set = set(my_list)\n",
        "\n",
        "print(my_set)"
      ],
      "metadata": {
        "colab": {
          "base_uri": "https://localhost:8080/"
        },
        "id": "xUZXIvNW62uN",
        "outputId": "80f98ac9-b307-4349-fe12-312da3b337c1"
      },
      "execution_count": 39,
      "outputs": [
        {
          "output_type": "stream",
          "name": "stdout",
          "text": [
            "{'cherry', 'tomatto', 'banana'}\n"
          ]
        }
      ]
    }
  ]
}